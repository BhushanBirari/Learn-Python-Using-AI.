{
  "nbformat": 4,
  "nbformat_minor": 0,
  "metadata": {
    "colab": {
      "provenance": [],
      "include_colab_link": true
    },
    "kernelspec": {
      "name": "python3",
      "display_name": "Python 3"
    },
    "language_info": {
      "name": "python"
    }
  },
  "cells": [
    {
      "cell_type": "markdown",
      "metadata": {
        "id": "view-in-github",
        "colab_type": "text"
      },
      "source": [
        "<a href=\"https://colab.research.google.com/github/BhushanBirari/Learn-Python-Using-AI./blob/main/Day_03.ipynb\" target=\"_parent\"><img src=\"https://colab.research.google.com/assets/colab-badge.svg\" alt=\"Open In Colab\"/></a>"
      ]
    },
    {
      "cell_type": "code",
      "execution_count": 5,
      "metadata": {
        "id": "QhZJYPeUWtwU"
      },
      "outputs": [],
      "source": [
        "ticket_price = 110\n",
        "wallet_size = 100"
      ]
    },
    {
      "cell_type": "code",
      "source": [
        "# Ctrl + Enter (run)\n",
        "# Comparision <, >, <=, >=, ==, !="
      ],
      "metadata": {
        "id": "3ynzBR3zXfLM"
      },
      "execution_count": 3,
      "outputs": []
    },
    {
      "cell_type": "code",
      "source": [
        "if ticket_price <= wallet_size:\n",
        "  print(\"Hurray, i can go to this movie!\")\n",
        "else:\n",
        "  print(\"Sad, i don't have enough purse\")"
      ],
      "metadata": {
        "colab": {
          "base_uri": "https://localhost:8080/"
        },
        "id": "Pajuk1T8XfOr",
        "outputId": "eab444d6-53c9-4fe8-b90c-0c164f7633ec"
      },
      "execution_count": 6,
      "outputs": [
        {
          "output_type": "stream",
          "name": "stdout",
          "text": [
            "Sad, i don't have enough purse\n"
          ]
        }
      ]
    },
    {
      "cell_type": "code",
      "source": [
        "# if (condition):\n",
        "#   # to do\n",
        "# else:\n",
        "#   # to do"
      ],
      "metadata": {
        "id": "uxjSku40XfUP"
      },
      "execution_count": 7,
      "outputs": []
    },
    {
      "cell_type": "code",
      "source": [
        "marks = 85\n",
        "\n",
        "# 90+ A+\n",
        "# 80+ A\n",
        "# 70+ B+\n",
        "# 60+ B\n",
        "# 60- Fail\n",
        "\n",
        "# if else elif"
      ],
      "metadata": {
        "id": "zjDNyp_SXfXc"
      },
      "execution_count": 8,
      "outputs": []
    },
    {
      "cell_type": "code",
      "source": [
        "marks = 91\n",
        "\n",
        "if (marks >= 90):\n",
        "  print(\"A+\")\n",
        "elif (marks >= 80):\n",
        "  print(\"A\")\n",
        "elif (marks >= 70):\n",
        "  print(\"B+\")\n",
        "elif (marks >= 60):\n",
        "  print(\"B\")\n",
        "else:\n",
        "  print(\"Fail\")"
      ],
      "metadata": {
        "colab": {
          "base_uri": "https://localhost:8080/"
        },
        "id": "4votN9jKZF_f",
        "outputId": "1186af8f-417b-4e28-c4e4-053364e25daf"
      },
      "execution_count": 10,
      "outputs": [
        {
          "output_type": "stream",
          "name": "stdout",
          "text": [
            "A+\n"
          ]
        }
      ]
    },
    {
      "cell_type": "code",
      "source": [],
      "metadata": {
        "id": "BGB283gvZF8N"
      },
      "execution_count": null,
      "outputs": []
    },
    {
      "cell_type": "code",
      "source": [],
      "metadata": {
        "id": "yv1E1tY-ZF5A"
      },
      "execution_count": null,
      "outputs": []
    },
    {
      "cell_type": "code",
      "source": [],
      "metadata": {
        "id": "Bt8y_MWEZF2U"
      },
      "execution_count": null,
      "outputs": []
    },
    {
      "cell_type": "code",
      "source": [],
      "metadata": {
        "id": "FHlRM-boZFzl"
      },
      "execution_count": null,
      "outputs": []
    },
    {
      "cell_type": "code",
      "source": [],
      "metadata": {
        "id": "rheOZpa1ZFwv"
      },
      "execution_count": null,
      "outputs": []
    },
    {
      "cell_type": "code",
      "source": [],
      "metadata": {
        "id": "-Gf9Rva7ZFuD"
      },
      "execution_count": null,
      "outputs": []
    }
  ]
}