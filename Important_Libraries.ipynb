{
  "nbformat": 4,
  "nbformat_minor": 0,
  "metadata": {
    "colab": {
      "provenance": [],
      "include_colab_link": true
    },
    "kernelspec": {
      "name": "python3",
      "display_name": "Python 3"
    },
    "language_info": {
      "name": "python"
    }
  },
  "cells": [
    {
      "cell_type": "markdown",
      "metadata": {
        "id": "view-in-github",
        "colab_type": "text"
      },
      "source": [
        "<a href=\"https://colab.research.google.com/github/BhushanBirari/Learn-Python./blob/main/Important_Libraries.ipynb\" target=\"_parent\"><img src=\"https://colab.research.google.com/assets/colab-badge.svg\" alt=\"Open In Colab\"/></a>"
      ]
    },
    {
      "cell_type": "code",
      "execution_count": null,
      "metadata": {
        "id": "NlWRi21XxuA3"
      },
      "outputs": [],
      "source": [
        "# --- Data Science ---\n",
        "# Numpy, Pandas, Matplotlib\n",
        "# Sklearn, Pytorch, Tensorflow\n",
        "\n",
        "# --- APIs ---\n",
        "# Requests, Flask, FastAPI\n",
        "\n",
        "# --- Web Development ---\n",
        "# Flask, Streamlit, Django\n",
        "\n",
        "# --- Web Scraping / Web Crawling ---\n",
        "# Selenium, BeautifulSoup, Scrapy\n",
        "\n",
        "# --- Computer Vision / Image Processing ---\n",
        "# OpenCV, Pillow, MoviePy, Ultralytics\n",
        "\n"
      ]
    }
  ]
}